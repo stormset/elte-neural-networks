{
 "cells": [
  {
   "cell_type": "markdown",
   "metadata": {
    "id": "IkN9M2r3ZCrg"
   },
   "source": [
    "# 1. házi feladat\n"
   ]
  },
  {
   "cell_type": "markdown",
   "metadata": {
    "id": "kzvl_P4NU8sp"
   },
   "source": [
    "## A/3\n",
    "\n",
    "**RPGCharacterKeeper**\n",
    "\n",
    "A karantén szabályok miatt online kellett folytatnotok a szerepjátékos alkalmakat, ezért kell készítened egy osztályt (**RPGCharacterKeeper**), amely a játékosok karaktereit és azok különböző képességeihez rendelt pontszámait tárolja. Az egyes játékos-karakterekhez hat darab képesség-pontszám tartozik, melyeket egész számokkal reprezentálunk.\n",
    "\n",
    "Az osztály neve legyen **RPGCharacterKeeper**. Öt publikus metódusa van:\n",
    "* ``get_all_characters() -> [str]``: Visszaadja az eltárolt játékos-karakterek neveit egy listában.\n",
    "* ``add_character(name, stats)``: Eltárolja a ``name`` elnevezésű játékos-karakter nevét és a hozzátartozó képességpontokat. Utóbbiakat a ``stats`` paraméteren keresztül adjuk meg: a függvény egy hat hosszúságú integer elemeket tartalmazó listát vár. Ha a ``stats`` argumentum nem hat elemű, *InvalidStatlineException* hibát vált ki.\n",
    "* ``get_max_stats() -> [int] OR [None]``: Egy hat elemű listában visszaadja a különböző képességek szerinti képességpontok maximumát az összes eddig hozzáadott játékos-karakter felett. Ha nincsenek még eltárolt játékos-karakterek, egy hat darab `None`-t tartalmazó listát kell visszaadnia.\n",
    "* ``get_stat_sums() -> {str: int}``: Visszaad egy szótárt, melynek kulcsai az eddig hozzáadott játékos-karakterek nevei, értékei pedig az adott játékos-karakterek képességpontjainak összegei.\n",
    "* ``get_average_joes() -> [str]``: Visszaadja azon játékos-karakterek neveit, akiknek a hatból legalább négy képesség-pontszámuk éppen 10."
   ]
  },
  {
   "cell_type": "markdown",
   "metadata": {
    "id": "AolKPbWly5nc"
   },
   "source": [
    "### Megoldás"
   ]
  },
  {
   "cell_type": "code",
   "execution_count": 1,
   "metadata": {
    "id": "QyRsSE1TU8sp"
   },
   "outputs": [],
   "source": [
    "\n",
    "# Your solution ->\n",
    "class InvalidStatlineException(Exception):\n",
    "    pass\n",
    "\n",
    "class RPGCharacterKeeper:\n",
    "    STAT_LIST_SIZE = 6\n",
    "\n",
    "    def __init__(self):\n",
    "        self.data = []\n",
    "\n",
    "    def get_all_characters(self):\n",
    "        return [entry[0] for entry in self.data]\n",
    "\n",
    "    def add_character(self, name, stats):\n",
    "        if len(stats) != RPGCharacterKeeper.STAT_LIST_SIZE:\n",
    "            raise InvalidStatlineException()\n",
    "\n",
    "        self.data.append((name, stats))\n",
    "\n",
    "    def get_max_stats(self):\n",
    "        if not self.data:\n",
    "            return [None] * RPGCharacterKeeper.STAT_LIST_SIZE\n",
    "\n",
    "        return [max(column) for column in zip(*(entry[1] for entry in self.data))]\n",
    "\n",
    "    def get_stat_sums(self):\n",
    "        return {entry[0] : sum(entry[1]) for entry in self.data}\n",
    "\n",
    "    def get_average_joes(self):\n",
    "        return [entry[0]\n",
    "                for entry in self.data\n",
    "                if len([ind for (ind, score) in enumerate(entry[1]) if score == 10]) >= 4]\n"
   ]
  },
  {
   "cell_type": "markdown",
   "metadata": {
    "id": "419NCAEly_-l"
   },
   "source": [
    "### Tesztek"
   ]
  },
  {
   "cell_type": "code",
   "execution_count": 2,
   "metadata": {
    "colab": {
     "base_uri": "https://localhost:8080/"
    },
    "id": "qs6J2Ej3U8sq",
    "outputId": "51933361-b1d4-4da2-88dd-cbc48b7d1bce"
   },
   "outputs": [
    {
     "name": "stderr",
     "output_type": "stream",
     "text": [
      "test_add_get_characters (__main__.TestRPGCharacterKeeper) ... ok\n",
      "test_get_max_stats (__main__.TestRPGCharacterKeeper) ... ok\n",
      "test_get_stat_sums (__main__.TestRPGCharacterKeeper) ... ok\n",
      "test_get_average_joes (__main__.TestRPGCharacterKeeper) ... ok\n",
      "\n",
      "----------------------------------------------------------------------\n",
      "Ran 4 tests in 0.021s\n",
      "\n",
      "OK\n"
     ]
    },
    {
     "data": {
      "text/plain": [
       "<unittest.runner.TextTestResult run=4 errors=0 failures=0>"
      ]
     },
     "execution_count": 2,
     "metadata": {},
     "output_type": "execute_result"
    }
   ],
   "source": [
    "import unittest\n",
    "\n",
    "class TestRPGCharacterKeeper(unittest.TestCase):\n",
    "    def test_add_get_characters(self):\n",
    "        rk = RPGCharacterKeeper()\n",
    "        self.assertEqual(rk.get_all_characters(), [])\n",
    "\n",
    "        self.assertRaises(InvalidStatlineException, rk.add_character, \"Vex\", [10]*5)\n",
    "\n",
    "        rk.add_character(\"Vex\", [7, 20, 10, 14, 16, 17])\n",
    "        self.assertEqual(rk.get_all_characters(), [\"Vex\"])\n",
    "\n",
    "        rk.add_character(\"Grog\", [19, 15, 20, 6, 10, 13])\n",
    "        rk.add_character(\"Percy\", [12, 22, 14, 20, 16, 14])\n",
    "        characters = rk.get_all_characters()\n",
    "        self.assertEqual(len(characters), 3)\n",
    "        self.assertTrue(\"Vex\" in characters)\n",
    "        self.assertTrue(\"Grog\" in characters)\n",
    "        self.assertTrue(\"Percy\" in characters)\n",
    "\n",
    "    def test_get_max_stats(self):\n",
    "        rk = RPGCharacterKeeper()\n",
    "        self.assertTrue(all(stat is None for stat in rk.get_max_stats()))\n",
    "\n",
    "        frontline_stats = [20, 19, 18, 8, 8, 8]\n",
    "        rk.add_character(\"mr fighter\", frontline_stats)\n",
    "        self.assertEqual(rk.get_max_stats(), frontline_stats)\n",
    "\n",
    "        mental_stats = [8, 8, 8, 18, 19, 20]\n",
    "        rk.add_character(\"mr caster\", mental_stats)\n",
    "        self.assertEqual(rk.get_max_stats(), [20, 19, 18, 18, 19, 20])\n",
    "        \n",
    "\n",
    "    def test_get_stat_sums(self):\n",
    "        rk = RPGCharacterKeeper()\n",
    "        self.assertEqual(rk.get_stat_sums(), {})\n",
    "\n",
    "        rk.add_character(\"Vex\", [7, 20, 10, 14, 16, 17])\n",
    "        self.assertEqual(rk.get_stat_sums(), {\"Vex\": 84})\n",
    "\n",
    "        rk.add_character(\"Grog\", [19, 15, 20, 6, 10, 13])\n",
    "        rk.add_character(\"Percy\", [12, 22, 14, 20, 16, 14])\n",
    "        stat_sums = rk.get_stat_sums()\n",
    "        self.assertEqual(stat_sums[\"Vex\"], 84)\n",
    "        self.assertEqual(stat_sums[\"Grog\"], 83)\n",
    "        self.assertEqual(stat_sums[\"Percy\"], 98)\n",
    "\n",
    "\n",
    "    def test_get_average_joes(self):\n",
    "        rk = RPGCharacterKeeper()\n",
    "        self.assertEqual(rk.get_average_joes(), [])\n",
    "\n",
    "        rk.add_character(\"Grog\", [19, 15, 20, 6, 10, 13])\n",
    "        rk.add_character(\"Percy\", [12, 22, 14, 20, 16, 14])\n",
    "        self.assertEqual(rk.get_average_joes(), [])\n",
    "\n",
    "        rk.add_character(\"Jacob Plaster\", [10]*6)\n",
    "        self.assertEqual(rk.get_average_joes(), [\"Jacob Plaster\"])\n",
    "        \n",
    "        rk.add_character(\"Bob\", [14, 14] + [10]*4)\n",
    "        joes = rk.get_average_joes()\n",
    "        self.assertEqual(len(joes), 2)\n",
    "        self.assertTrue(\"Bob\" in  joes)\n",
    "        self.assertTrue(\"Jacob Plaster\" in  joes)\n",
    "       \n",
    "\n",
    "def suite():\n",
    "    suite = unittest.TestSuite()\n",
    "    testfuns = [\"test_add_get_characters\", \"test_get_max_stats\", \"test_get_stat_sums\",\n",
    "                \"test_get_average_joes\"]\n",
    "    [suite.addTest(TestRPGCharacterKeeper(fun)) for fun in testfuns]\n",
    "    return suite\n",
    "\n",
    "runner = unittest.TextTestRunner(verbosity=2)\n",
    "runner.run(suite())"
   ]
  },
  {
   "cell_type": "markdown",
   "metadata": {
    "id": "2m88NNMwZa4O"
   },
   "source": [
    "## B/2 \n",
    "\n",
    "**Fals negatív arány** (False negative rate)\n",
    "\n",
    "Multiclass klasszifikáció esetén a mintaelemeink címkéjét k kategória egyikébe becsüljük (például kutya, macska, papagáj, stb.). Ha a becsléshez neuronhálót használunk, tipikusan, mintaelemenként egy-egy k elemű, valószínűségeket tartalmazó vektort kapunk, ahol az egyes valószínűségek a mintaelem egyes kategóriákba tartozásának valószínűségét reprezentálják. Ha szeretnénk ezekből a vektorokból megmondani, hogy egy-egy mintaelem melyik kategóriába tartozik a legnagyobb valószínűség szerint, akkor elég megmondani minden egyes vektorban a maximális elem indexét. Így megkapjuk a becsült kategóriákat.\n",
    "\n",
    "Klasszifikációs modellek teljesítményének mérésére különböző metrikák léteznek (pl. pontosság - accuracy, precizitás - precision, szenzitivitás - recall, stb.). Az egyes metrikák a teljesítményt csak bizonyos szempontok szerint értékelik, jellemzően, egy modell egyetlen metrikával történő kiértékelése nem ad teljes képet a modell klasszifikációs teljesítményéről.\n",
    "\n",
    "Ebben a feladatban a **Fals negatív arány** (False negative rate, miss rate, FNR) metrikát kell implementálnod a **multiclass** (kettőnél több kategóriás) **klasszifikáció esetére.** A multiclass fals negatív arány, kategóriák felett átlagolva, azt adja meg, hogy egy választott kategóriába valójában tartozó elemeket milyen arányban soroltunk mégis, (hibásan) bármelyik eltérő kategóriába. Minél nagyobb ez az érték, annál rosszabbak a becsléseink.\n",
    "\n",
    "Számolásához a bináris (két kategóriás) esetből indulhatunk ki. Ilyenkor az egyik, választott kategóriánk a pozitív kategória, míg a másik a negatív kategória. A bináris fals negatív arány így a következő:\n",
    "\n",
    "$$ FNR = \\dfrac{FN}{VP+FN} $$\n",
    "\n",
    "ahol VP a valódi pozitívok (azaz ahol a pozitív kategóriát helyesen becsültük) száma, FN pedig a fals negatívok száma (azaz ahol a negatív kategóriát helytelenül becsültük).  A nevező tehát egyenlő azzal, hogy hány elem tartozik valójában a pozitív kategóriába.\n",
    "\n",
    "Multiclass esetben minden kategóriára számoljuk a fenti arányt úgy, hogy az aktuális kategória a pozitív kategória és mindegyik másik kategória együttvéve a negatív kategória. Az így, kategóriánként kapott FNR értékeknek az átlaga adja meg a multiclass FNR metrikát.\n",
    "\n",
    "A feladat, hogy implementáld a `false_negative_rate` függvényt, ami két paramétert kap:\n",
    "*   `y_pred` tartalmazza becsült valószínűségeket (ez egy (m, k) alakú tömb, ahol  m  a mintaelemek és  k  a kategóriák száma) \n",
    "*   `y_true` tartalmazza az igazi kategóriacímkéket (ez egy (m,) alakú tömb)\n",
    "\n",
    "A függvény egy számot ad vissza, a kategóriákra egyenként számolt bináris FNR értékek átlagát.\n",
    "\n",
    "**Kikötés:**  Az implementációt vektoros módon, NumPy-ban, ciklusok és egyéb, annak megfelelő Python konstrukciók használata nélkül kell elkészíteni. További részletek a notebook végén."
   ]
  },
  {
   "cell_type": "markdown",
   "metadata": {
    "id": "TjlI_Se9er4B"
   },
   "source": [
    "### Megoldás"
   ]
  },
  {
   "cell_type": "code",
   "execution_count": 3,
   "metadata": {
    "id": "yz62W8tXCQrn"
   },
   "outputs": [],
   "source": [
    "import numpy as np\n",
    "\n",
    "# Your solution ->\n",
    "def false_negative_rate(y_pred, y_true):\n",
    "    pred_classes = np.argmax(y_pred, axis=1)\n",
    "    class_cnt = y_pred.shape[1]\n",
    "\n",
    "    # https://www.mdpi.com/2227-7080/9/4/81/htm\n",
    "    counts = np.bincount(y_true * class_cnt + pred_classes)\n",
    "    # pads only if we haven't predicted the last category (it is not in y_true) or\n",
    "    # if it is not in pred_classes\n",
    "    confusion_mx = np.pad(counts, (0, class_cnt * class_cnt - len(counts)), 'constant').reshape((class_cnt, class_cnt))\n",
    "\n",
    "    per_class_true_pos = np.diagonal(confusion_mx)\n",
    "    per_class_true_pos_plus_false_neg = np.sum(confusion_mx, axis=1)\n",
    "    per_class_false_neg = per_class_true_pos_plus_false_neg - per_class_true_pos\n",
    "\n",
    "    # to avoid warning when dividing with 0 in case of 0/0\n",
    "    summed = np.sum(np.divide(per_class_false_neg,\n",
    "                              per_class_true_pos_plus_false_neg,\n",
    "                              out=np.zeros(per_class_false_neg.shape),\n",
    "                              where=per_class_true_pos_plus_false_neg!=0))\n",
    "\n",
    "    return summed / class_cnt\n"
   ]
  },
  {
   "cell_type": "markdown",
   "metadata": {
    "id": "I7li7CITey2i"
   },
   "source": [
    "### Tesztek"
   ]
  },
  {
   "cell_type": "code",
   "execution_count": 4,
   "metadata": {
    "colab": {
     "base_uri": "https://localhost:8080/"
    },
    "id": "qreWikAmOC7F",
    "outputId": "021e8c6a-bba0-4a28-ab1b-a08e49127a2e"
   },
   "outputs": [
    {
     "name": "stderr",
     "output_type": "stream",
     "text": [
      "test_two_classes (__main__.TestFNR) ... ok\n",
      "test_three_classes (__main__.TestFNR) ... ok\n",
      "test_four_classes (__main__.TestFNR) ... ok\n",
      "\n",
      "----------------------------------------------------------------------\n",
      "Ran 3 tests in 0.010s\n",
      "\n",
      "OK\n"
     ]
    },
    {
     "data": {
      "text/plain": [
       "<unittest.runner.TextTestResult run=3 errors=0 failures=0>"
      ]
     },
     "execution_count": 4,
     "metadata": {},
     "output_type": "execute_result"
    }
   ],
   "source": [
    "import unittest\n",
    "\n",
    "class TestFNR(unittest.TestCase):\n",
    "\n",
    "    def test_two_classes(self):\n",
    "        two_class_preds = np.array([[0.4, 0.6], [0.8, 0.2], [0.55, 0.45], [0.1, 0.9]])\n",
    "        two_class_labels = np.array([0,0,1,1])\n",
    "        self.assertAlmostEqual(false_negative_rate(two_class_preds, two_class_labels), 0.5)\n",
    "\n",
    "    def test_three_classes(self):\n",
    "        three_class_preds = np.array([[0.4, 0.3, 0.3], [0.1, 0.5, 0.4], \n",
    "                                    [0.3, 0.2, 0.5], [0.4, 0.25, 0.35]])\n",
    "        three_class_labels = np.array([0, 1, 2, 2])\n",
    "        self.assertAlmostEqual(false_negative_rate(three_class_preds, three_class_labels), 1/6)\n",
    "\n",
    "    def test_four_classes(self):\n",
    "        four_class_preds = np.array([[1., 0., 0., 0.], [1., 0., 0., 0.], \n",
    "                                     [0., 0., 1., 0.], [0., 0., 1., 0.],\n",
    "                                     [0., 1., 0., 0.], [0., 0., 0., 1.],\n",
    "                                     ])  # [0,0,2,2,1,3]\n",
    "        four_class_labels = np.array([0, 2, 1, 1, 1, 3])\n",
    "        self.assertAlmostEqual(false_negative_rate(four_class_preds, four_class_labels), 5/12)\n",
    "\n",
    "def suite():\n",
    "    suite = unittest.TestSuite()\n",
    "    testfuns = [\"test_two_classes\", \"test_three_classes\", \"test_four_classes\"]\n",
    "    [suite.addTest(TestFNR(fun)) for fun in testfuns]\n",
    "    return suite\n",
    "\n",
    "runner = unittest.TextTestRunner(verbosity=2)\n",
    "runner.run(suite())"
   ]
  },
  {
   "cell_type": "markdown",
   "metadata": {
    "id": "EgpQS_o5staA"
   },
   "source": [
    "## C/1\n",
    "\n",
    "**Sudoku**\n",
    "\n",
    "Készíts egy **SudokuBoard** nevű osztályt, ami a Sudoku táblát reprezentálja! A Sudoku egy 9x9-es tábla, ami 3x3-as blokkokra van osztva a sorok és oszlopok mentén. 1-től 9-ig kell elhelyeznünk a számokat úgy, hogy minden sorban, oszlopban, és blokkban a számok egyszer szerepeljenek.\n",
    "\n",
    "Emellett az osztály a következő tagfüggvényekkel kell, hogy rendelkezzen:\n",
    "\n",
    "*   `can_place(row_idx, col_idx, number) -> bool` : a függvény egy logikai értéket ad vissza, mely megadja, hogy a Sudoku szabályai szerint elhelyezhető-e a `number` szám a tábla `col_idx`, `row_idx` pozícióján. A sorok és oszlopok indexelése nullától kezdődik.\n",
    "*   `place(row_idx, col_idx, number) -> bool` : a függvény működése azonos az előző függvényével, azt leszámítva, hogy ha a megadott szám elhelyezhető a tábla megadott pozícióján, akkor ez a függvény el is helyezi azt.\n",
    "*   `get_row_idx_with_highest_sum() -> int` : a függvény megadja annak a sornak az indexét, melyben a beírt számok összege maximális. Ha több ilyen van, az egyiket kell visszadni közülük.\n",
    "*   `get_num_cols_where_number_is_present(number) -> int` : a függvény megadja hány darab olyan oszlop van, amiben a paraméterben megadott `number` szám szerepel.\n",
    "*   `get_empty_block_idxs() -> ndarray(n_blocks_ret, 2) of int32` : a függvény egy (n_blocks_ret, 2) alakú tömbben visszaadja azoknak a 3x3-as blokkoknak az indexét, melyekbe még nem került szám. A blokkok pozícióját darabonként két index adja meg. Ha mátrixokként tekintünk a táblára, akkor például a bal alsó blokk indexe ``[2, 0]`` lesz.\n",
    "*   `get_max_of_rows_where_num_is_present(number) -> int` : a függvény visszadja azoknak a soroknak az együttesen vett maximumát, melyekben szerepel a ``number`` szám. Amennyiben a ``number`` szám nem szerpel a táblában, adjon 0 értéket vissza a függvény!\n",
    "\n",
    "**Kikötés:**  Az implementációt vektoros módon, NumPy-ban, ciklusok és egyéb, annak megfelelő Python konstrukciók használata nélkül kell elkészíteni. További részletek a notebook végén.\n",
    "\n"
   ]
  },
  {
   "cell_type": "markdown",
   "metadata": {
    "id": "RHH65Y7Ve_cB"
   },
   "source": [
    "### Megoldás"
   ]
  },
  {
   "cell_type": "code",
   "execution_count": 5,
   "metadata": {
    "id": "1x9hKzvxtsYZ"
   },
   "outputs": [],
   "source": [
    "import numpy as np\n",
    "\n",
    "# Your solution ->\n",
    "class SudokuBoard:\n",
    "    SIZE = 9\n",
    "    BLOCK_SIZE = 3\n",
    "    assert SIZE % BLOCK_SIZE == 0\n",
    "\n",
    "    def __init__(self):\n",
    "        # Note: 0 represents the empty field\n",
    "        #self.board = np.arange(1,82).reshape((9,9))\n",
    "        self.board = np.zeros(shape=(SudokuBoard.SIZE, SudokuBoard.SIZE), dtype=np.int32)\n",
    "\n",
    "    \"\"\" :returns a slice tuple, that can be used to index the block that contains the given index \"\"\"\n",
    "    def __get_block_indices(self, row_idx, col_idx):\n",
    "        block_row_start = np.int32(np.trunc(row_idx / SudokuBoard.BLOCK_SIZE)) * 3\n",
    "        block_col_start = np.int32(np.trunc(col_idx / SudokuBoard.BLOCK_SIZE)) * 3\n",
    "\n",
    "        return np.s_[block_row_start:(block_row_start + SudokuBoard.BLOCK_SIZE),\n",
    "                     block_col_start:(block_col_start + SudokuBoard.BLOCK_SIZE)]\n",
    "\n",
    "    def can_place(self, row_idx, col_idx, number):\n",
    "        # can't overwrite value\n",
    "        if self.board[row_idx, col_idx] != 0:\n",
    "            return False\n",
    "\n",
    "        # check according to the game rules\n",
    "        mask = np.full_like(self.board, dtype=np.bool_, fill_value=False)\n",
    "        mask[row_idx], mask[:,col_idx], mask[self.__get_block_indices(row_idx, col_idx)] = True, True, True\n",
    "\n",
    "        return not np.any(self.board[mask] == number)\n",
    "\n",
    "    def place(self, row_idx, col_idx, number):\n",
    "        if not self.can_place(row_idx, col_idx, number):\n",
    "            return False\n",
    "\n",
    "        self.board[row_idx, col_idx] = number\n",
    "\n",
    "        return True\n",
    "\n",
    "    def get_row_idx_with_highest_sum(self):\n",
    "        return np.argmax(self.board.sum(axis=1))\n",
    "\n",
    "    def get_num_cols_where_number_is_present(self, number):\n",
    "        return np.count_nonzero(np.isin(self.board, number).any(axis=0))\n",
    "\n",
    "    def get_empty_block_idxs(self):\n",
    "        h_splits = np.hsplit(self.board, SudokuBoard.BLOCK_SIZE)\n",
    "        empty_blocks = np.all(np.array(h_splits).flatten().reshape(SudokuBoard.SIZE,-1) == 0, axis=1)\n",
    "        indices = np.indices((SudokuBoard.BLOCK_SIZE,SudokuBoard.BLOCK_SIZE)).transpose(2,1,0).reshape(SudokuBoard.SIZE,-1)\n",
    "\n",
    "        return indices[empty_blocks]\n",
    "\n",
    "    def get_max_of_rows_where_num_is_present(self, number):\n",
    "        mask = np.isin(self.board, number).any(axis=1)\n",
    "        \n",
    "        return self.board[mask].max(initial=0)\n"
   ]
  },
  {
   "cell_type": "markdown",
   "metadata": {
    "id": "313yeAlqfBC2"
   },
   "source": [
    "### Tesztek"
   ]
  },
  {
   "cell_type": "code",
   "execution_count": 6,
   "metadata": {
    "colab": {
     "base_uri": "https://localhost:8080/"
    },
    "id": "Ry_X8qEloURq",
    "outputId": "1c740da2-7e3f-4738-ed9f-ec48dbf5567e"
   },
   "outputs": [
    {
     "name": "stderr",
     "output_type": "stream",
     "text": [
      "test_can_place (__main__.TestSudoku) ... ok\n",
      "test_place (__main__.TestSudoku) ... ok\n",
      "test_get_row_idx_with_highest_sum (__main__.TestSudoku) ... ok\n",
      "test_get_num_cols_where_number_is_present (__main__.TestSudoku) ... ok\n",
      "test_get_empty_block_idxs (__main__.TestSudoku) ... ok\n",
      "test_get_max_of_rows_where_num_is_present (__main__.TestSudoku) ... ok\n",
      "\n",
      "----------------------------------------------------------------------\n",
      "Ran 6 tests in 0.035s\n",
      "\n",
      "OK\n"
     ]
    },
    {
     "data": {
      "text/plain": [
       "<unittest.runner.TextTestResult run=6 errors=0 failures=0>"
      ]
     },
     "execution_count": 6,
     "metadata": {},
     "output_type": "execute_result"
    }
   ],
   "source": [
    "import unittest\n",
    "\n",
    "class TestSudoku(unittest.TestCase):\n",
    "    def test_can_place(self):\n",
    "        sb = SudokuBoard()\n",
    "        self.assertTrue(sb.can_place(0, 0, 5))\n",
    "        self.assertTrue(sb.can_place(8, 0, 5))\n",
    "        self.assertTrue(sb.can_place(0, 8, 5))\n",
    "        self.assertTrue(sb.can_place(4, 6, 5))\n",
    "        self.assertTrue(sb.can_place(8, 8, 5))\n",
    "\n",
    "        sb.place(3, 3, 5)\n",
    "        self.assertFalse(sb.can_place(3, 3, 7))\n",
    "        self.assertFalse(sb.can_place(5, 4, 5))\n",
    "        self.assertFalse(sb.can_place(7, 3, 5))\n",
    "        self.assertFalse(sb.can_place(3, 7, 5))\n",
    "        \n",
    "        self.assertTrue(sb.can_place(2, 4, 5))\n",
    "        self.assertTrue(sb.can_place(3, 4, 6))\n",
    "\n",
    "    def test_place(self):\n",
    "        sb = SudokuBoard()\n",
    "        self.assertTrue(sb.place(2, 7, 4))\n",
    "        self.assertFalse(sb.place(2, 7, 4))\n",
    "        self.assertFalse(sb.place(2, 7, 5))\n",
    "        self.assertTrue(sb.place(2, 0, 5))\n",
    "        self.assertFalse(sb.place(2, 8, 5))\n",
    "\n",
    "    def test_get_row_idx_with_highest_sum(self):\n",
    "        sb = SudokuBoard()\n",
    "        sb.place(5, 6, 3)\n",
    "        self.assertEqual(sb.get_row_idx_with_highest_sum(), 5)\n",
    "        \n",
    "        to_insert = [(1, 0, 3), (1, 7, 6), (2, 1, 4), (2, 2, 2), (2, 8, 1), (3, 7, 8)]\n",
    "        [sb.place(*t) for t in to_insert]\n",
    "        self.assertEqual(sb.get_row_idx_with_highest_sum(), 1)\n",
    "        \n",
    "        to_insert = [(2, 3, 5), (5, 8, 4), (5, 1, 6)]\n",
    "        [sb.place(*t) for t in to_insert]\n",
    "        self.assertEqual(sb.get_row_idx_with_highest_sum(), 5)\n",
    "\n",
    "    def test_get_num_cols_where_number_is_present(self):\n",
    "        sb = SudokuBoard()\n",
    "        self.assertEqual(sb.get_num_cols_where_number_is_present(9), 0)\n",
    "        self.assertEqual(sb.get_num_cols_where_number_is_present(1), 0)\n",
    "        \n",
    "        to_insert = [(1, 0, 3), (2, 7, 3), (2, 1, 4), (5, 8, 4), (8, 0, 4), (3, 7, 8)]\n",
    "        [sb.place(*t) for t in to_insert]\n",
    "        self.assertEqual(sb.get_num_cols_where_number_is_present(9), 0)\n",
    "        self.assertEqual(sb.get_num_cols_where_number_is_present(3), 2)\n",
    "        self.assertEqual(sb.get_num_cols_where_number_is_present(4), 3)\n",
    "        self.assertEqual(sb.get_num_cols_where_number_is_present(8), 1)\n",
    "\n",
    "    def test_get_empty_block_idxs(self):\n",
    "        sb = SudokuBoard()\n",
    "        ret = sb.get_empty_block_idxs()\n",
    "        self.assertEqual(ret.shape, (9, 2))\n",
    "        self.assertEqual(tuple(np.sum(ret, axis=0)), (9, 9))\n",
    "\n",
    "        to_insert = [(1, 0, 3), (2, 7, 3), (2, 1, 4), (5, 8, 4), (8, 0, 4), (3, 7, 8)]\n",
    "        [sb.place(*t) for t in to_insert]\n",
    "        ret = sb.get_empty_block_idxs()\n",
    "        self.assertEqual(ret.shape, (5, 2))\n",
    "        self.assertEqual(tuple(np.sum(ret, axis=0)), (6, 5))\n",
    "\n",
    "        to_insert = [(1, 4, 9), (3, 2, 6), (3, 3, 7), (8, 5, 1), (8, 8, 2)]\n",
    "        [sb.place(*t) for t in to_insert]\n",
    "        ret = sb.get_empty_block_idxs()\n",
    "        self.assertEqual(ret.shape, (0, 2))\n",
    "\n",
    "    def test_get_max_of_rows_where_num_is_present(self):\n",
    "        sb = SudokuBoard()\n",
    "        self.assertEqual(sb.get_max_of_rows_where_num_is_present(4), 0)\n",
    "        self.assertEqual(sb.get_max_of_rows_where_num_is_present(9), 0)\n",
    "\n",
    "        to_insert = [(1, 0, 3), (2, 7, 3), (2, 1, 4), (5, 8, 4), (8, 0, 4), (3, 7, 8)]\n",
    "        [sb.place(*t) for t in to_insert]\n",
    "        self.assertEqual(sb.get_max_of_rows_where_num_is_present(4), 4)\n",
    "        self.assertEqual(sb.get_max_of_rows_where_num_is_present(3), 4)\n",
    "        self.assertEqual(sb.get_max_of_rows_where_num_is_present(8), 8)\n",
    "        self.assertEqual(sb.get_max_of_rows_where_num_is_present(7), 0)\n",
    "\n",
    "        to_insert = [(1, 4, 9), (3, 2, 6), (3, 3, 7), (8, 5, 1), (8, 8, 2)]\n",
    "        [sb.place(*t) for t in to_insert]\n",
    "        self.assertEqual(sb.get_max_of_rows_where_num_is_present(5), 0)\n",
    "        self.assertEqual(sb.get_max_of_rows_where_num_is_present(3), 9)\n",
    "        self.assertEqual(sb.get_max_of_rows_where_num_is_present(4), 4)\n",
    "        self.assertEqual(sb.get_max_of_rows_where_num_is_present(6), 8)\n",
    "        self.assertEqual(sb.get_max_of_rows_where_num_is_present(1), 4)\n",
    "        \n",
    "def suite():\n",
    "    suite = unittest.TestSuite()\n",
    "    testfuns = [\"test_can_place\", \"test_place\", \"test_get_row_idx_with_highest_sum\",\n",
    "                \"test_get_num_cols_where_number_is_present\", \"test_get_empty_block_idxs\",\n",
    "                \"test_get_max_of_rows_where_num_is_present\"]\n",
    "    [suite.addTest(TestSudoku(fun)) for fun in testfuns]\n",
    "    return suite\n",
    "\n",
    "runner = unittest.TextTestRunner(verbosity=2)\n",
    "runner.run(suite())"
   ]
  }
 ],
 "metadata": {
  "colab": {
   "collapsed_sections": [],
   "name": "nvp190_handin_1.ipynb",
   "provenance": []
  },
  "kernelspec": {
   "display_name": "Python 3",
   "language": "python",
   "name": "python3"
  },
  "language_info": {
   "codemirror_mode": {
    "name": "ipython",
    "version": 3
   },
   "file_extension": ".py",
   "mimetype": "text/x-python",
   "name": "python",
   "nbconvert_exporter": "python",
   "pygments_lexer": "ipython3",
   "version": "3.8.10"
  }
 },
 "nbformat": 4,
 "nbformat_minor": 1
}
